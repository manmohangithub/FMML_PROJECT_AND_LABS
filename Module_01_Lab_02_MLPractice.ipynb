{
  "nbformat": 4,
  "nbformat_minor": 0,
  "metadata": {
    "colab": {
      "provenance": [],
      "include_colab_link": true
    },
    "kernelspec": {
      "name": "python3",
      "display_name": "Python 3"
    },
    "language_info": {
      "name": "python"
    }
  },
  "cells": [
    {
      "cell_type": "markdown",
      "metadata": {
        "id": "view-in-github",
        "colab_type": "text"
      },
      "source": [
        "<a href=\"https://colab.research.google.com/github/manmohangithub/FMML_PROJECT_AND_LABS/blob/main/Module_01_Lab_02_MLPractice.ipynb\" target=\"_parent\"><img src=\"https://colab.research.google.com/assets/colab-badge.svg\" alt=\"Open In Colab\"/></a>"
      ]
    },
    {
      "cell_type": "markdown",
      "metadata": {
        "id": "3Eu9VZbF01eq"
      },
      "source": [
        "# Machine learning terms and metrics\n",
        "\n",
        "FMML Module 1, Lab 2<br>\n",
        "\n",
        "\n",
        " In this lab, we will show a part of the ML pipeline by extracting features, training and testing"
      ]
    },
    {
      "cell_type": "code",
      "metadata": {
        "id": "8qBvyEem0vLi"
      },
      "source": [
        "import matplotlib.pyplot as plt\n",
        "import numpy as np\n",
        "from sklearn import datasets\n",
        "# set randomseed\n",
        "rng = np.random.default_rng(seed=42)"
      ],
      "execution_count": null,
      "outputs": []
    },
    {
      "cell_type": "markdown",
      "metadata": {
        "id": "u3t59g5s1HfC"
      },
      "source": [
        "In this lab, we will use the California Housing dataset. There are 20640 samples, each with 8 attributes like income of the block, age of the houses per district etc. The task is to predict the cost of the houses per district.\n",
        "\n",
        "Let us download and examine the dataset."
      ]
    },
    {
      "cell_type": "code",
      "metadata": {
        "id": "8LpqjN991GGJ",
        "colab": {
          "base_uri": "https://localhost:8080/"
        },
        "outputId": "ef5cc6da-f13e-482e-ac07-c999549cb33d"
      },
      "source": [
        " dataset =  datasets.fetch_california_housing()\n",
        " # print(dataset.DESCR)  # uncomment this if you want to know more about this dataset\n",
        " # print(dataset.keys())  # if you want to know what else is there in this dataset\n",
        " dataset.target = dataset.target.astype(np.int) # so that we can classify\n",
        " print(dataset.data.shape)\n",
        " print(dataset.target.shape)"
      ],
      "execution_count": null,
      "outputs": [
        {
          "output_type": "stream",
          "name": "stdout",
          "text": [
            "(20640, 8)\n",
            "(20640,)\n"
          ]
        },
        {
          "output_type": "stream",
          "name": "stderr",
          "text": [
            "<ipython-input-3-60ae2e9a125e>:4: DeprecationWarning: `np.int` is a deprecated alias for the builtin `int`. To silence this warning, use `int` by itself. Doing this will not modify any behavior and is safe. When replacing `np.int`, you may wish to use e.g. `np.int64` or `np.int32` to specify the precision. If you wish to review your current use, check the release note link for additional information.\n",
            "Deprecated in NumPy 1.20; for more details and guidance: https://numpy.org/devdocs/release/1.20.0-notes.html#deprecations\n",
            "  dataset.target = dataset.target.astype(np.int) # so that we can classify\n"
          ]
        }
      ]
    },
    {
      "cell_type": "markdown",
      "metadata": {
        "id": "iNx4174W5xRg"
      },
      "source": [
        "Here is a function for calculating the 1-nearest neighbours"
      ]
    },
    {
      "cell_type": "code",
      "metadata": {
        "id": "07zpydQj1hIQ"
      },
      "source": [
        "def NN1(traindata, trainlabel, query):\n",
        "  diff  = traindata - query  # find the difference between features. Numpy automatically takes care of the size here\n",
        "  sq = diff*diff # square the differences\n",
        "  dist = sq.sum(1) # add up the squares\n",
        "  label = trainlabel[np.argmin(dist)] # our predicted label is the label of the training data which has the least distance from the query\n",
        "  return label\n",
        "\n",
        "def NN(traindata, trainlabel, testdata):\n",
        "  # we will run nearest neighbour for each sample in the test data\n",
        "  # and collect the predicted classes in an array using list comprehension\n",
        "  predlabel = np.array([NN1(traindata, trainlabel, i) for i in testdata])\n",
        "  return predlabel"
      ],
      "execution_count": null,
      "outputs": []
    },
    {
      "cell_type": "markdown",
      "metadata": {
        "id": "03JktkfIGaje"
      },
      "source": [
        "We will also define a 'random classifier', which randomly allots labels to each sample"
      ]
    },
    {
      "cell_type": "code",
      "metadata": {
        "id": "fogWAtjyGhAH"
      },
      "source": [
        "def RandomClassifier(traindata, trainlabel, testdata):\n",
        "  # in reality, we don't need these arguments\n",
        "\n",
        "  classes = np.unique(trainlabel)\n",
        "  rints = rng.integers(low=0, high=len(classes), size=len(testdata))\n",
        "  predlabel = classes[rints]\n",
        "  return predlabel"
      ],
      "execution_count": null,
      "outputs": []
    },
    {
      "cell_type": "markdown",
      "metadata": {
        "id": "1Hjf1KHs7fU5"
      },
      "source": [
        "Let us define a metric 'Accuracy' to see how good our learning algorithm is. Accuracy is the ratio of the number of correctly classified samples to the total number of samples. The higher the accuracy, the better the algorithm."
      ]
    },
    {
      "cell_type": "code",
      "metadata": {
        "id": "ouuCqWU07bz-"
      },
      "source": [
        "def Accuracy(gtlabel, predlabel):\n",
        "  assert len(gtlabel)==len(predlabel), \"Length of the groundtruth labels and predicted labels should be the same\"\n",
        "  correct = (gtlabel==predlabel).sum() # count the number of times the groundtruth label is equal to the predicted label.\n",
        "  return correct/len(gtlabel)"
      ],
      "execution_count": null,
      "outputs": []
    },
    {
      "cell_type": "markdown",
      "metadata": {
        "id": "4vJFwBFa9Klw"
      },
      "source": [
        "Let us make a function to split the dataset with the desired probability."
      ]
    },
    {
      "cell_type": "code",
      "metadata": {
        "id": "Ko0VzpSM2Tdi"
      },
      "source": [
        "def split(data, label, percent):\n",
        "  # generate a random number for each sample\n",
        "  rnd = rng.random(len(label))\n",
        "  split1 = rnd<percent\n",
        "  split2 = rnd>=percent\n",
        "  split1data = data[split1,:]\n",
        "  split1label = label[split1]\n",
        "  split2data = data[split2,:]\n",
        "  split2label = label[split2]\n",
        "  return split1data, split1label, split2data, split2label"
      ],
      "execution_count": null,
      "outputs": []
    },
    {
      "cell_type": "markdown",
      "metadata": {
        "id": "AcK3LEAJ_LGC"
      },
      "source": [
        "We will reserve 20% of our dataset as the test set. We will not change this portion throughout our experiments"
      ]
    },
    {
      "cell_type": "code",
      "metadata": {
        "id": "bBZkHBLJ1iU-",
        "colab": {
          "base_uri": "https://localhost:8080/"
        },
        "outputId": "e52782d6-183f-4628-fa12-cc19e5cb285e"
      },
      "source": [
        "testdata, testlabel, alltraindata, alltrainlabel = split(dataset.data, dataset.target, 20/100)\n",
        "print('Number of test samples = ', len(testlabel))\n",
        "print('Number of other samples = ', len(alltrainlabel))\n",
        "print('Percent of test data = ', len(testlabel)*100/len(dataset.target),'%')"
      ],
      "execution_count": null,
      "outputs": [
        {
          "output_type": "stream",
          "name": "stdout",
          "text": [
            "Number of test samples =  4144\n",
            "Number of other samples =  16496\n",
            "Percent of test data =  20.07751937984496 %\n"
          ]
        }
      ]
    },
    {
      "cell_type": "markdown",
      "metadata": {
        "id": "a6Ss0Z6IAGNV"
      },
      "source": [
        "## Experiments with splits\n",
        "\n",
        "Let us reserve some of our train data as a validation set"
      ]
    },
    {
      "cell_type": "code",
      "metadata": {
        "id": "WFew2iry_7W7"
      },
      "source": [
        "traindata, trainlabel, valdata, vallabel = split(alltraindata, alltrainlabel, 75/100)"
      ],
      "execution_count": null,
      "outputs": []
    },
    {
      "cell_type": "markdown",
      "metadata": {
        "id": "60hiu4clFN1i"
      },
      "source": [
        "What is the accuracy of our classifiers on the train dataset?"
      ]
    },
    {
      "cell_type": "code",
      "metadata": {
        "id": "DBlZDTHUFTZx",
        "colab": {
          "base_uri": "https://localhost:8080/"
        },
        "outputId": "9d8bbc6a-5ad5-4944-f441-540c1cef59bb"
      },
      "source": [
        "trainpred = NN(traindata, trainlabel, traindata)\n",
        "trainAccuracy = Accuracy(trainlabel, trainpred)\n",
        "print(\"Train accuracy using nearest neighbour is \", trainAccuracy)\n",
        "\n",
        "trainpred = RandomClassifier(traindata, trainlabel, traindata)\n",
        "trainAccuracy = Accuracy(trainlabel, trainpred)\n",
        "print(\"Train accuracy using random classifier is \", trainAccuracy)"
      ],
      "execution_count": null,
      "outputs": [
        {
          "output_type": "stream",
          "name": "stdout",
          "text": [
            "Train accuracy using nearest neighbour is  1.0\n",
            "Train accuracy using random classifier is  0.164375808538163\n"
          ]
        }
      ]
    },
    {
      "cell_type": "markdown",
      "metadata": {
        "id": "7h08-9gJDtSy"
      },
      "source": [
        "For nearest neighbour, the train accuracy is always 1. The accuracy of the random classifier is close to 1/(number of classes) which is 0.1666 in our case.\n",
        "\n",
        "Let us predict the labels for our validation set and get the accuracy"
      ]
    },
    {
      "cell_type": "code",
      "metadata": {
        "id": "4h7bXoW_2H3v",
        "colab": {
          "base_uri": "https://localhost:8080/"
        },
        "outputId": "819e5e4e-fee1-40a7-c3de-711d5b12a2a8"
      },
      "source": [
        "valpred = NN(traindata, trainlabel, valdata)\n",
        "valAccuracy = Accuracy(vallabel, valpred)\n",
        "print(\"Validation accuracy using nearest neighbour is \", valAccuracy)\n",
        "\n",
        "valpred = RandomClassifier(traindata, trainlabel, valdata)\n",
        "valAccuracy = Accuracy(vallabel, valpred)\n",
        "print(\"Validation accuracy using random classifier is \", valAccuracy)"
      ],
      "execution_count": null,
      "outputs": [
        {
          "output_type": "stream",
          "name": "stdout",
          "text": [
            "Validation accuracy using nearest neighbour is  0.34108527131782945\n",
            "Validation accuracy using random classifier is  0.1688468992248062\n"
          ]
        }
      ]
    },
    {
      "cell_type": "markdown",
      "metadata": {
        "id": "py9bLguFEjfg"
      },
      "source": [
        "Validation accuracy of nearest neighbour is considerably less than its train accuracy while the validation accuracy of random classifier is the same. However, the validation accuracy of nearest neighbour is twice that of the random classifier.\n",
        "\n",
        "Now let us try another random split and check the validation accuracy"
      ]
    },
    {
      "cell_type": "code",
      "metadata": {
        "id": "ujm3cyYzEntE",
        "colab": {
          "base_uri": "https://localhost:8080/"
        },
        "outputId": "fa4458c0-4f64-4159-adb9-8dffd5b69945"
      },
      "source": [
        "traindata, trainlabel, valdata, vallabel = split(alltraindata, alltrainlabel, 75/100)\n",
        "valpred = NN(traindata, trainlabel, valdata)\n",
        "valAccuracy = Accuracy(vallabel, valpred)\n",
        "print(\"Validation accuracy of nearest neighbour is \", valAccuracy)"
      ],
      "execution_count": null,
      "outputs": [
        {
          "output_type": "stream",
          "name": "stdout",
          "text": [
            "Validation accuracy of nearest neighbour is  0.34048257372654156\n"
          ]
        }
      ]
    },
    {
      "cell_type": "markdown",
      "metadata": {
        "id": "oSOx7U83EKie"
      },
      "source": [
        "You can run the above cell multiple times to try with different random splits.\n",
        "We notice that the accuracy is different for each run, but close together.\n",
        "\n",
        "Now let us compare it with the accuracy we get on the test dataset."
      ]
    },
    {
      "cell_type": "code",
      "metadata": {
        "id": "PNEZ5ToYBEDW",
        "colab": {
          "base_uri": "https://localhost:8080/"
        },
        "outputId": "07d00cc4-2eb6-4ce1-917b-2a4f31bc6f5f"
      },
      "source": [
        "testpred = NN(alltraindata, alltrainlabel, testdata)\n",
        "testAccuracy = Accuracy(testlabel, testpred)\n",
        "print('Test accuracy is ', testAccuracy)"
      ],
      "execution_count": null,
      "outputs": [
        {
          "output_type": "stream",
          "name": "stdout",
          "text": [
            "Test accuracy is  0.34917953667953666\n"
          ]
        }
      ]
    },
    {
      "cell_type": "markdown",
      "metadata": {
        "id": "w3dGD531K3gH"
      },
      "source": [
        "### Try it out for yourself and answer:\n",
        "1. How is the accuracy of the validation set affected if we increase the percentage of validation set? What happens when we reduce it?\n",
        "2. How does the size of the train and validation set affect how well we can predict the accuracy on the test set using the validation set?\n",
        "3. What do you think is a good percentage to reserve for the validation set so that thest two factors are balanced?\n",
        "\n",
        "Answer for both nearest neighbour and random classifier. You can note down the values for your experiments and plot a graph using  <a href=https://matplotlib.org/stable/gallery/lines_bars_and_markers/step_demo.html#sphx-glr-gallery-lines-bars-and-markers-step-demo-py>plt.plot<href>. Check also for extreme values for splits, like 99.9% or 0.1%"
      ]
    },
    {
      "cell_type": "markdown",
      "source": [
        "#1)How is the accuracy of the validation set affected if we increase the percentage of validation set?"
      ],
      "metadata": {
        "id": "3nDmCZ3ARUKe"
      }
    },
    {
      "cell_type": "markdown",
      "source": [
        "\n",
        "\n",
        "Increasing the Percentage of Validation Set:\n",
        "\n",
        "Pros:\n",
        "\n",
        "Better Evaluation: A larger validation set can provide a more reliable estimate of your model's performance. It helps in assessing how well the model generalizes to unseen data.\n",
        "Detecting Overfitting: With a larger validation set, it becomes easier to detect overfitting. Overfitting occurs when a model learns to perform well on the training data but doesn't generalize well to new data. A larger validation set provides more data for this detection.\n",
        "Cons:\n",
        "\n",
        "Reduced Training Data: As you allocate more data to the validation set, you have less data available for training your model. This can potentially lead to underfitting, where the model doesn't learn the underlying patterns in the data well.\n",
        "Reducing the Percentage of Validation Set:\n",
        "\n",
        "Pros:\n",
        "\n",
        "More Data for Training: With a smaller validation set, you have more data available for training your model. This can be beneficial, especially if you have a limited dataset.\n",
        "Cons:\n",
        "\n",
        "Less Reliable Evaluation: A smaller validation set may provide a less reliable estimate of your model's performance. The evaluation might be more sensitive to random variations in the validation data, leading to less confidence in the results.\n",
        "Risk of Overfitting: With less data for validation, it becomes harder to detect overfitting. The model might appear to perform well on the validation set, but it may not generalize well to new data.\n",
        "The choice of the percentage of data allocated to the validation set is a trade-off. It depends on factors like the size of your dataset, the complexity of your model, and your specific goals. Common practices often involve splitting the data into 70-80% for training and 20-30% for validation in many machine learning projects. However, there are no strict rules, and you may need to experiment with different splits to find the one that works best for your particular problem.\n",
        "\n",
        "\n"
      ],
      "metadata": {
        "id": "v2CeacdERotm"
      }
    },
    {
      "cell_type": "markdown",
      "source": [
        "#2)How does the size of the train and validation set affect how well we can predict the accuracy on the test set using the validation set?"
      ],
      "metadata": {
        "id": "4lF4tQPrSU5I"
      }
    },
    {
      "cell_type": "markdown",
      "source": [
        "Small Training Set, Large Validation Set:\n",
        "\n",
        "High Bias, Low Variance: When you have a small training set and a large validation set, your model may underfit the data. It doesn't have enough information to learn the underlying patterns, so it will perform poorly on both the training and validation sets. In this case, the validation set won't be a good indicator of test set performance.\n",
        "Large Training Set, Small Validation Set:\n",
        "\n",
        "Low Bias, High Variance: With a large training set and a small validation set, your model might overfit the training data. It can memorize the training examples, but this memorization doesn't generalize well to unseen data. In this case, the validation set might also not be a reliable indicator of test set performance.\n",
        "Balanced Training and Validation Sets:\n",
        "\n",
        "Optimal Trade-off: Ideally, you want a balanced setup where both the training and validation sets are reasonably sized. This helps strike a balance between bias and variance. The model learns enough from the training data to capture the underlying patterns but doesn't overfit. The validation set provides a good estimate of how well the model generalizes to unseen data, making it a better predictor of test set accuracy.\n",
        "Cross-Validation:\n",
        "\n",
        "Robust Evaluation: To mitigate the impact of the size of the validation set, you can also use techniques like k-fold cross-validation. This involves splitting the data into multiple subsets (folds) and training and validating the model multiple times, rotating through different subsets as validation data. This provides a more robust estimate of model performance and reduces the variability associated with the size of a single validation set."
      ],
      "metadata": {
        "id": "r8-k9aJLSgxy"
      }
    },
    {
      "cell_type": "markdown",
      "source": [
        "# 3)What do you think is a good percentage to reserve for the validation set so that thest two factors are balanced?"
      ],
      "metadata": {
        "id": "hKGst1LASzX4"
      }
    },
    {
      "cell_type": "markdown",
      "source": [
        "80/20 or 70/30 Split (Train/Validation): In many cases, an 80/20 or 70/30 split is a good starting point. This means you allocate 80% (or 70%) of your data for training and the remaining 20% (or 30%) for validation. This is a common split when you have a moderate-sized dataset.\n",
        "\n",
        "Cross-Validation: If you have a limited amount of data, you might want to consider k-fold cross-validation, where you divide your data into k subsets (folds) and perform training and validation k times, rotating through the folds. This allows you to use all of your data for both training and validation and provides a more robust estimate of model performance.\n",
        "\n",
        "Stratified Split: If your dataset has class imbalance (e.g., one class has significantly fewer samples than others), consider using stratified sampling to ensure that both the training and validation sets maintain the same class distribution as the original dataset. This can be crucial for accurate evaluation.\n",
        "\n",
        "Data Size Considerations: If you have a very large dataset, you can allocate a smaller percentage to the validation set, such as 10% or even less, and still have enough data for training. Conversely, if your dataset is very small, you may need to allocate a larger percentage to validation to ensure you have a representative sample for evaluation.\n",
        "\n",
        "Hyperparameter Tuning: If you plan to perform extensive hyperparameter tuning, you might consider setting aside a larger validation set, as this will require more data for robust validation."
      ],
      "metadata": {
        "id": "F5bf2pjPTOjW"
      }
    },
    {
      "cell_type": "markdown",
      "metadata": {
        "id": "PnYvkAZLQY7h"
      },
      "source": [
        "## Multiple Splits\n",
        "\n",
        "One way to get more accurate estimates for the test accuracy is by using <b>crossvalidation</b>. Here, we will try a simple version, where we do multiple train/val splits and take the average of validation accuracies as the test accuracy estimation. Here is a function for doing this. Note that this function will take a long time to execute."
      ]
    },
    {
      "cell_type": "code",
      "metadata": {
        "id": "E4nGCUQXBTzo"
      },
      "source": [
        "# you can use this function for random classifier also\n",
        "def AverageAccuracy(alldata, alllabel, splitpercent, iterations, classifier=NN):\n",
        "  accuracy = 0\n",
        "  for ii in range(iterations):\n",
        "    traindata, trainlabel, valdata, vallabel = split(alldata, alllabel, splitpercent)\n",
        "    valpred = classifier(traindata, trainlabel, valdata)\n",
        "    accuracy += Accuracy(vallabel, valpred)\n",
        "  return accuracy/iterations # average of all accuracies"
      ],
      "execution_count": null,
      "outputs": []
    },
    {
      "cell_type": "code",
      "metadata": {
        "id": "H3qtNar7Bbik",
        "colab": {
          "base_uri": "https://localhost:8080/"
        },
        "outputId": "04a94135-2f63-4e38-b99c-d347b908f16a"
      },
      "source": [
        "print('Average validation accuracy is ', AverageAccuracy(alltraindata, alltrainlabel, 75/100, 10, classifier=NN))\n",
        "testpred = NN(alltraindata, alltrainlabel, testdata)\n",
        "print('test accuracy is ',Accuracy(testlabel, testpred) )"
      ],
      "execution_count": null,
      "outputs": [
        {
          "output_type": "stream",
          "name": "stdout",
          "text": [
            "Average validation accuracy is  0.33584635395170215\n",
            "test accuracy is  0.34917953667953666\n"
          ]
        }
      ]
    },
    {
      "cell_type": "markdown",
      "metadata": {
        "id": "33GIn4x5VH-d"
      },
      "source": [
        "This is a very simple way of doing cross-validation. There are many well-known algorithms for cross-validation, like k-fold cross-validation, leave-one-out etc. This will be covered in detail in a later module. For more information about cross-validation, check <a href=https://en.wikipedia.org/wiki/Cross-validation_(statistics)>Cross-validatioin (Wikipedia)</a>\n",
        "\n",
        "### Questions\n",
        "1. Does averaging the validation accuracy across multiple splits give more consistent results?\n",
        "2. Does it give more accurate estimate of test accuracy?\n",
        "3. What is the effect of the number of iterations on the estimate? Do we get a better estimate with higher iterations?\n",
        "4. Consider the results you got for the previous questions. Can we deal with a very small train dataset or validation dataset by increasing the iterations?\n"
      ]
    },
    {
      "cell_type": "markdown",
      "source": [
        "# 1)Does averaging the validation accuracy across multiple splits give more consistent results?"
      ],
      "metadata": {
        "id": "vWyH7uD-TZ4s"
      }
    },
    {
      "cell_type": "markdown",
      "source": [
        "Yes, averaging the validation accuracy across multiple splits of your data can often give more consistent and reliable results compared to relying on a single split. This practice is known as cross-validation, and it helps assess the performance and generalization of a machine learning model more robustly."
      ],
      "metadata": {
        "id": "F_dFrhLXTcrx"
      }
    },
    {
      "cell_type": "markdown",
      "source": [
        "# 2)Does it give more accurate estimate of test accuracy?"
      ],
      "metadata": {
        "id": "arGUt8f8Tt7K"
      }
    },
    {
      "cell_type": "markdown",
      "source": [
        "Cross-validation, while it provides a more robust estimate of model performance compared to a single train-validation split, is still primarily an estimate of how your model might perform on unseen data. It is not a direct estimate of the model's performance on a true, independent test dataset. The purpose of cross-validation is to assess the model's generalization ability and help with hyperparameter tuning, but it doesn't replace the need for a final evaluation on a dedicated test set."
      ],
      "metadata": {
        "id": "wGuW5iLbT7V5"
      }
    },
    {
      "cell_type": "markdown",
      "source": [
        "# 3)What is the effect of the number of iterations on the estimate? Do we get a better estimate with higher iterations?"
      ],
      "metadata": {
        "id": "RBWT4C3XUE1X"
      }
    },
    {
      "cell_type": "markdown",
      "source": [
        "The number of iterations, or folds, in a cross-validation procedure can have an impact on the estimate of model performance. Generally, using a higher number of iterations can lead to a more robust estimate, but there are trade-offs to consider:\n",
        "\n",
        "More Stable Estimate: Increasing the number of iterations in cross-validation (e.g., using a higher value of k in k-fold cross-validation) provides a more stable and reliable estimate of model performance. This is because you're repeatedly training and evaluating the model on different subsets of your data, which helps reduce the impact of random variations in the data.\n",
        "\n",
        "Smaller Training Sets: However, as you increase the number of iterations, each training fold becomes smaller because the total number of data points is divided into more subsets. Smaller training sets may lead to models that are less representative of the overall data distribution.\n",
        "\n",
        "Computational Cost: Running cross-validation with a higher number of iterations can be computationally expensive, especially if your dataset is large or if the model training process is time-consuming. You need to balance the computational cost with the desire for a more accurate estimate.\n",
        "\n",
        "Bias-Variance Trade-off: The choice of the number of iterations can be seen as a bias-variance trade-off. With a larger number of iterations, you reduce the variance in your estimate (resulting in a more stable estimate), but you might introduce a small bias because each training set is smaller."
      ],
      "metadata": {
        "id": "tAn3S4xoUIDZ"
      }
    },
    {
      "cell_type": "markdown",
      "source": [
        "# 4)Consider the results you got for the previous questions. Can we deal with a very small train dataset or validation dataset by increasing the iterations?"
      ],
      "metadata": {
        "id": "64oKNsUIUQ60"
      }
    },
    {
      "cell_type": "markdown",
      "source": [
        "Increasing the number of iterations in a cross-validation procedure can help mitigate some of the issues associated with very small training or validation datasets to a certain extent, but it may not fully address the underlying problems. Here's how increasing iterations can help and what limitations still apply:\n",
        "\n",
        "Advantages of Increasing Iterations:\n",
        "\n",
        "Improved Stability: With more iterations, you obtain multiple estimates of model performance, which can help reduce the impact of randomness in the data. This improved stability can provide a more reliable assessment of how your model generalizes.\n",
        "\n",
        "Better Utilization of Data: If you have a very small dataset, using more iterations (e.g., increasing k in k-fold cross-validation) can allow you to use a larger portion of your data for training and validation in total. This can help your model learn from more data, which is beneficial.\n",
        "\n",
        "Limitations and Considerations:\n",
        "\n",
        "Small Training Sets: Increasing the number of iterations does not change the fact that each individual training set within a fold becomes smaller as you divide your data into more subsets. Small training sets can lead to models that may not generalize well because they haven't seen enough diverse examples.\n",
        "\n",
        "Validation Set Size: The size of the validation set remains constant regardless of the number of iterations. If you have a very small validation set, it can make it challenging to obtain reliable estimates of model performance because the evaluation might be sensitive to the specific data points in the validation set.\n",
        "\n",
        "Computational Cost: Running cross-validation with a large number of iterations can become computationally expensive, especially if the model training process is time-consuming.\n",
        "\n",
        "Bias-Variance Trade-off: Increasing iterations may reduce variance in the estimate but could introduce a small bias due to smaller training sets within each fold.\n",
        "\n",
        "In cases where you have a very small dataset, it's important to be cautious and consider other strategies as well:\n",
        "\n",
        "Data Augmentation: If possible, augment your dataset by creating variations of existing data points to artificially increase the size of your training dataset.\n",
        "\n",
        "Use Simpler Models: With a limited amount of data, it may be beneficial to use simpler models (with fewer parameters) to avoid overfitting.\n",
        "\n",
        "Regularization: Apply regularization techniques to prevent overfitting in cases of small datasets.\n",
        "\n",
        "Collect More Data: If feasible, consider collecting additional data to increase the size of your dataset, which can lead to more robust model training and evaluation."
      ],
      "metadata": {
        "id": "Aj2_UwMcUX2u"
      }
    }
  ]
}